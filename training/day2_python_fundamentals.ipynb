{
 "cells": [
  {
   "cell_type": "markdown",
   "id": "fe490d2d",
   "metadata": {},
   "source": [
    "# Day 2 - Python Fundamentals\n",
    "Learn and practice data structures, functions, modules, exception handling, and basic problems."
   ]
  },
  {
   "cell_type": "markdown",
   "id": "bab20c10",
   "metadata": {},
   "source": [
    "## Data Structures: list, tuple, set, dict"
   ]
  },
  {
   "cell_type": "code",
   "execution_count": null,
   "id": "5b833780",
   "metadata": {},
   "outputs": [],
   "source": [
    "# List and Set\n",
    "numbers = [1, 2, 2, 3, 4, 5, 5, 5]\n",
    "unique = list(set(numbers))\n",
    "sorted_list = sorted(unique)\n",
    "print(\"Unique sorted list:\", sorted_list)\n",
    "\n",
    "# Tuple\n",
    "point = (10, 20)\n",
    "print(\"Tuple:\", point)\n",
    "\n",
    "# Dictionary with nesting\n",
    "data = {\n",
    "    \"student\": {\n",
    "        \"name\": \"Manthan\",\n",
    "        \"grades\": {\n",
    "            \"math\": 95,\n",
    "            \"science\": 88\n",
    "        }\n",
    "    }\n",
    "}\n",
    "print(\"Science Grade:\", data[\"student\"][\"grades\"][\"science\"])\n"
   ]
  },
  {
   "cell_type": "markdown",
   "id": "0bc7859b",
   "metadata": {},
   "source": [
    "## List Comprehensions"
   ]
  },
  {
   "cell_type": "code",
   "execution_count": null,
   "id": "dd31a7ff",
   "metadata": {},
   "outputs": [],
   "source": [
    "squares = [x**2 for x in range(10)]\n",
    "print(\"Squares:\", squares)\n"
   ]
  },
  {
   "cell_type": "markdown",
   "id": "86cfc7e3",
   "metadata": {},
   "source": [
    "## Functions: Factorial and Prime Checker"
   ]
  },
  {
   "cell_type": "code",
   "execution_count": null,
   "id": "b06e050f",
   "metadata": {},
   "outputs": [],
   "source": [
    "def factorial(n):\n",
    "    result = 1\n",
    "    for i in range(1, n+1):\n",
    "        result *= i\n",
    "    return result\n",
    "\n",
    "def is_prime(n):\n",
    "    if n <= 1:\n",
    "        return False\n",
    "    for i in range(2, int(n**0.5)+1):\n",
    "        if n % i == 0:\n",
    "            return False\n",
    "    return True\n",
    "\n",
    "print(\"Factorial of 5:\", factorial(5))\n",
    "print(\"Is 13 prime?\", is_prime(13))\n"
   ]
  },
  {
   "cell_type": "markdown",
   "id": "ae1d9c70",
   "metadata": {},
   "source": [
    "## Built-in Modules: math, random, datetime"
   ]
  },
  {
   "cell_type": "code",
   "execution_count": null,
   "id": "75478d05",
   "metadata": {},
   "outputs": [],
   "source": [
    "import math, random, datetime\n",
    "\n",
    "print(\"Square root of 25:\", math.sqrt(25))\n",
    "print(\"Random number (1-10):\", random.randint(1, 10))\n",
    "print(\"Current datetime:\", datetime.datetime.now())\n"
   ]
  },
  {
   "cell_type": "markdown",
   "id": "da409362",
   "metadata": {},
   "source": [
    "## Exception Handling"
   ]
  },
  {
   "cell_type": "code",
   "execution_count": null,
   "id": "b76448b4",
   "metadata": {},
   "outputs": [],
   "source": [
    "try:\n",
    "    x = int(input(\"Enter a number: \"))\n",
    "    y = 10 / x\n",
    "except ZeroDivisionError:\n",
    "    print(\"You can't divide by zero!\")\n",
    "except ValueError:\n",
    "    print(\"Invalid input! Must be a number.\")\n",
    "finally:\n",
    "    print(\"Done.\")\n"
   ]
  },
  {
   "cell_type": "markdown",
   "id": "1a4610bd",
   "metadata": {},
   "source": [
    "## Practice Problems"
   ]
  },
  {
   "cell_type": "code",
   "execution_count": null,
   "id": "5ce0d90b",
   "metadata": {},
   "outputs": [],
   "source": [
    "# FizzBuzz\n",
    "for i in range(1, 21):\n",
    "    if i % 3 == 0 and i % 5 == 0:\n",
    "        print(\"FizzBuzz\")\n",
    "    elif i % 3 == 0:\n",
    "        print(\"Fizz\")\n",
    "    elif i % 5 == 0:\n",
    "        print(\"Buzz\")\n",
    "    else:\n",
    "        print(i)\n"
   ]
  },
  {
   "cell_type": "code",
   "execution_count": null,
   "id": "367c92ab",
   "metadata": {},
   "outputs": [],
   "source": [
    "# Largest number in a list\n",
    "lst = [3, 9, 2, 8]\n",
    "print(\"Largest number:\", max(lst))\n"
   ]
  },
  {
   "cell_type": "code",
   "execution_count": null,
   "id": "2b4eae0c",
   "metadata": {},
   "outputs": [],
   "source": [
    "# Reverse a string\n",
    "s = \"quantlake\"\n",
    "print(\"Reversed string:\", s[::-1])\n"
   ]
  }
 ],
 "metadata": {},
 "nbformat": 4,
 "nbformat_minor": 5
}
