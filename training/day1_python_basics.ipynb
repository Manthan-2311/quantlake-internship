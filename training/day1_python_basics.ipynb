{
  "cells": [
    {
      "cell_type": "markdown",
      "metadata": {},
      "source": [
        "data types"
      ]
    },
    {
      "cell_type": "code",
      "execution_count": null,
      "metadata": {
        "id": "EUqX86yWu_DM"
      },
      "outputs": [],
      "source": [
        "# Integer\n",
        "a = 10\n",
        "\n",
        "# Float\n",
        "b = 3.14\n",
        "\n",
        "# String\n",
        "name = \"Manthan\"\n",
        "\n",
        "# Boolean\n",
        "is_valid = True\n"
      ]
    },
    {
      "cell_type": "markdown",
      "metadata": {},
      "source": [
        "lists, tuples, dictionary"
      ]
    },
    {
      "cell_type": "code",
      "execution_count": null,
      "metadata": {},
      "outputs": [],
      "source": [
        "# List\n",
        "fruits = ['apple', 'banana', 'mango']\n",
        "\n",
        "# Tuple\n",
        "coordinates = (10, 20)\n",
        "\n",
        "# Dictionary\n",
        "student = {'name': 'Manthan', 'age': 21}\n"
      ]
    },
    {
      "cell_type": "markdown",
      "metadata": {},
      "source": [
        "arithamtic and  comparison"
      ]
    },
    {
      "cell_type": "code",
      "execution_count": null,
      "metadata": {},
      "outputs": [],
      "source": [
        "x = 5\n",
        "y = 3\n",
        "\n",
        "# Arithmetic\n",
        "print(x + y)\n",
        "print(x * y)\n",
        "\n",
        "# Comparison\n",
        "print(x == y)\n",
        "print(x > y)\n"
      ]
    },
    {
      "cell_type": "markdown",
      "metadata": {},
      "source": [
        "If-Else statement"
      ]
    },
    {
      "cell_type": "code",
      "execution_count": null,
      "metadata": {},
      "outputs": [],
      "source": [
        "# if-else \n",
        "marks = 85\n",
        "\n",
        "if marks >= 90:\n",
        "    print(\"Grade A\")\n",
        "elif marks >= 75:\n",
        "    print(\"Grade B\")\n",
        "else:\n",
        "    print(\"Grade C\")\n"
      ]
    },
    {
      "cell_type": "markdown",
      "metadata": {},
      "source": [
        "loops"
      ]
    },
    {
      "cell_type": "code",
      "execution_count": null,
      "metadata": {},
      "outputs": [],
      "source": [
        "# For loop\n",
        "for i in range(5):\n",
        "    print(\"Loop:\", i)\n",
        "\n",
        "# While loop\n",
        "i = 0\n",
        "while i < 5:\n",
        "    print(\"While Loop:\", i)\n",
        "    i += 1\n"
      ]
    }
  ],
  "metadata": {
    "colab": {
      "provenance": []
    },
    "kernelspec": {
      "display_name": "Python 3",
      "name": "python3"
    },
    "language_info": {
      "name": "python"
    }
  },
  "nbformat": 4,
  "nbformat_minor": 0
}
