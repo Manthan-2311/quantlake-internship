{
 "cells": [
  {
   "cell_type": "markdown",
   "id": "8b5584fa",
   "metadata": {},
   "source": [
    "# Day 4 - Pandas: Data Manipulation I (Superstore Dataset)\n",
    "Working with real-world retail data to access, filter, clean, group, and merge."
   ]
  },
  {
   "cell_type": "markdown",
   "id": "b288c94a",
   "metadata": {},
   "source": [
    "## Import Libraries and Load Dataset"
   ]
  },
  {
   "cell_type": "code",
   "execution_count": 22,
   "id": "8c8c101e",
   "metadata": {},
   "outputs": [
    {
     "name": "stdout",
     "output_type": "stream",
     "text": [
      "   row_id        order_id  order_date   ship_date       ship_mode customer_id  \\\n",
      "0       1  CA-2016-152156   11/8/2016  11/11/2016    Second Class    CG-12520   \n",
      "1       2  CA-2016-152156   11/8/2016  11/11/2016    Second Class    CG-12520   \n",
      "2       3  CA-2016-138688   6/12/2016   6/16/2016    Second Class    DV-13045   \n",
      "3       4  US-2015-108966  10/11/2015  10/18/2015  Standard Class    SO-20335   \n",
      "4       5  US-2015-108966  10/11/2015  10/18/2015  Standard Class    SO-20335   \n",
      "\n",
      "     customer_name    segment        country             city  ...  \\\n",
      "0      Claire Gute   Consumer  United States        Henderson  ...   \n",
      "1      Claire Gute   Consumer  United States        Henderson  ...   \n",
      "2  Darrin Van Huff  Corporate  United States      Los Angeles  ...   \n",
      "3   Sean O'Donnell   Consumer  United States  Fort Lauderdale  ...   \n",
      "4   Sean O'Donnell   Consumer  United States  Fort Lauderdale  ...   \n",
      "\n",
      "  postal_code  region       product_id         category sub_category  \\\n",
      "0       42420   South  FUR-BO-10001798        Furniture    Bookcases   \n",
      "1       42420   South  FUR-CH-10000454        Furniture       Chairs   \n",
      "2       90036    West  OFF-LA-10000240  Office Supplies       Labels   \n",
      "3       33311   South  FUR-TA-10000577        Furniture       Tables   \n",
      "4       33311   South  OFF-ST-10000760  Office Supplies      Storage   \n",
      "\n",
      "                                        product_name     sales  quantity  \\\n",
      "0                  Bush Somerset Collection Bookcase  261.9600         2   \n",
      "1  Hon Deluxe Fabric Upholstered Stacking Chairs,...  731.9400         3   \n",
      "2  Self-Adhesive Address Labels for Typewriters b...   14.6200         2   \n",
      "3      Bretford CR4500 Series Slim Rectangular Table  957.5775         5   \n",
      "4                     Eldon Fold 'N Roll Cart System   22.3680         2   \n",
      "\n",
      "   discount    profit  \n",
      "0      0.00   41.9136  \n",
      "1      0.00  219.5820  \n",
      "2      0.00    6.8714  \n",
      "3      0.45 -383.0310  \n",
      "4      0.20    2.5164  \n",
      "\n",
      "[5 rows x 21 columns]\n"
     ]
    }
   ],
   "source": [
    "import pandas as pd\n",
    "\n",
    "# Load the renamed Superstore CSV\n",
    "df = pd.read_csv('superstore.csv', encoding='ISO-8859-1')\n",
    "\n",
    "# Clean column names for consistency\n",
    "df.columns = df.columns.str.strip().str.lower().str.replace(' ', '_').str.replace('-', '_')\n",
    "\n",
    "# Preview data\n",
    "print(df.head())"
   ]
  },
  {
   "cell_type": "markdown",
   "id": "8c803129",
   "metadata": {},
   "source": [
    "## Task 1: Indexing and Slicing"
   ]
  },
  {
   "cell_type": "code",
   "execution_count": 23,
   "id": "e0ccd93f",
   "metadata": {},
   "outputs": [
    {
     "name": "stdout",
     "output_type": "stream",
     "text": [
      "261.96\n",
      "    ship_date     ship_mode customer_id\n",
      "0  11/11/2016  Second Class    CG-12520\n",
      "1  11/11/2016  Second Class    CG-12520\n",
      "2   6/16/2016  Second Class    DV-13045\n",
      "     region     sales    profit\n",
      "0     South  261.9600   41.9136\n",
      "1     South  731.9400  219.5820\n",
      "2      West   14.6200    6.8714\n",
      "3     South  957.5775 -383.0310\n",
      "4     South   22.3680    2.5164\n",
      "...     ...       ...       ...\n",
      "9989  South   25.2480    4.1028\n",
      "9990   West   91.9600   15.6332\n",
      "9991   West  258.5760   19.3932\n",
      "9992   West   29.6000   13.3200\n",
      "9993   West  243.1600   72.9480\n",
      "\n",
      "[9994 rows x 3 columns]\n",
      "      row_id        order_id  order_date   ship_date       ship_mode  \\\n",
      "1          2  CA-2016-152156   11/8/2016  11/11/2016    Second Class   \n",
      "3          4  US-2015-108966  10/11/2015  10/18/2015  Standard Class   \n",
      "7          8  CA-2014-115812    6/9/2014   6/14/2014  Standard Class   \n",
      "10        11  CA-2014-115812    6/9/2014   6/14/2014  Standard Class   \n",
      "11        12  CA-2014-115812    6/9/2014   6/14/2014  Standard Class   \n",
      "...      ...             ...         ...         ...             ...   \n",
      "9931    9932  CA-2015-104948  11/13/2015  11/17/2015  Standard Class   \n",
      "9942    9943  CA-2014-143371  12/28/2014    1/3/2015  Standard Class   \n",
      "9947    9948  CA-2017-121559    6/1/2017    6/3/2017    Second Class   \n",
      "9948    9949  CA-2017-121559    6/1/2017    6/3/2017    Second Class   \n",
      "9968    9969  CA-2017-153871  12/11/2017  12/17/2017  Standard Class   \n",
      "\n",
      "     customer_id    customer_name    segment        country             city  \\\n",
      "1       CG-12520      Claire Gute   Consumer  United States        Henderson   \n",
      "3       SO-20335   Sean O'Donnell   Consumer  United States  Fort Lauderdale   \n",
      "7       BH-11710  Brosina Hoffman   Consumer  United States      Los Angeles   \n",
      "10      BH-11710  Brosina Hoffman   Consumer  United States      Los Angeles   \n",
      "11      BH-11710  Brosina Hoffman   Consumer  United States      Los Angeles   \n",
      "...          ...              ...        ...            ...              ...   \n",
      "9931    KH-16510    Keith Herrera   Consumer  United States   San Bernardino   \n",
      "9942    MD-17350    Maribeth Dona   Consumer  United States          Anaheim   \n",
      "9947    HW-14935  Helen Wasserman  Corporate  United States     Indianapolis   \n",
      "9948    HW-14935  Helen Wasserman  Corporate  United States     Indianapolis   \n",
      "9968    RB-19435  Richard Bierner   Consumer  United States       Plainfield   \n",
      "\n",
      "      ... postal_code   region       product_id         category sub_category  \\\n",
      "1     ...       42420    South  FUR-CH-10000454        Furniture       Chairs   \n",
      "3     ...       33311    South  FUR-TA-10000577        Furniture       Tables   \n",
      "7     ...       90032     West  TEC-PH-10002275       Technology       Phones   \n",
      "10    ...       90032     West  FUR-TA-10001539        Furniture       Tables   \n",
      "11    ...       90032     West  TEC-PH-10002033       Technology       Phones   \n",
      "...   ...         ...      ...              ...              ...          ...   \n",
      "9931  ...       92404     West  FUR-BO-10004357        Furniture    Bookcases   \n",
      "9942  ...       92804     West  OFF-ST-10001128  Office Supplies      Storage   \n",
      "9947  ...       46203  Central  FUR-CH-10003746        Furniture       Chairs   \n",
      "9948  ...       46203  Central  OFF-AP-10002945  Office Supplies   Appliances   \n",
      "9968  ...        7060     East  OFF-BI-10004600  Office Supplies      Binders   \n",
      "\n",
      "                                           product_name      sales  quantity  \\\n",
      "1     Hon Deluxe Fabric Upholstered Stacking Chairs,...   731.9400         3   \n",
      "3         Bretford CR4500 Series Slim Rectangular Table   957.5775         5   \n",
      "7                        Mitel 5320 IP Phone VoIP phone   907.1520         6   \n",
      "10             Chromcraft Rectangular Conference Tables  1706.1840         9   \n",
      "11        Konftel 250 Conference phone - Charcoal black   911.4240         4   \n",
      "...                                                 ...        ...       ...   \n",
      "9931     O'Sullivan Living Dimensions 3-Shelf Bookcases   683.3320         4   \n",
      "9942        Carina Mini System Audio Rack, Model AR050B   998.8200         9   \n",
      "9947  Hon 4070 Series Pagoda Round Back Stacking Chairs  1925.8800         6   \n",
      "9948  Honeywell Enviracaire Portable HEPA Air Cleane...  2405.2000         8   \n",
      "9968          Ibico Ibimaster 300 Manual Binding System   735.9800         2   \n",
      "\n",
      "      discount    profit  \n",
      "1         0.00  219.5820  \n",
      "3         0.45 -383.0310  \n",
      "7         0.20   90.7152  \n",
      "10        0.20   85.3092  \n",
      "11        0.20   68.3568  \n",
      "...        ...       ...  \n",
      "9931      0.15  -40.1960  \n",
      "9942      0.00   29.9646  \n",
      "9947      0.00  539.2464  \n",
      "9948      0.00  793.7160  \n",
      "9968      0.00  331.1910  \n",
      "\n",
      "[1162 rows x 21 columns]\n"
     ]
    }
   ],
   "source": [
    "# Access using loc and iloc\n",
    "print(df.loc[0, 'sales'])\n",
    "print(df.iloc[0:3, 3:6])\n",
    "\n",
    "# Select rows and columns\n",
    "print(df[['region', 'sales', 'profit']])\n",
    "print(df[df['sales'] > 500])\n"
   ]
  },
  {
   "cell_type": "markdown",
   "id": "ae410ba4",
   "metadata": {},
   "source": [
    "## Task 2: Filtering and Sorting"
   ]
  },
  {
   "cell_type": "code",
   "execution_count": 24,
   "id": "3b067eba",
   "metadata": {},
   "outputs": [
    {
     "name": "stdout",
     "output_type": "stream",
     "text": [
      "            order_id      sales region\n",
      "1     CA-2016-152156   731.9400  South\n",
      "3     US-2015-108966   957.5775  South\n",
      "72    US-2015-134026   831.9360  South\n",
      "182   CA-2014-158274   503.9600  South\n",
      "232   US-2017-100930   620.6145  South\n",
      "...              ...        ...    ...\n",
      "9639  CA-2015-116638  4297.6440  South\n",
      "9689  US-2017-135986   503.9600  South\n",
      "9732  CA-2014-114321   500.2400  South\n",
      "9734  CA-2014-114321   896.9900  South\n",
      "9816  CA-2015-162201   516.9600  South\n",
      "\n",
      "[199 rows x 3 columns]\n",
      "      row_id        order_id  order_date   ship_date       ship_mode  \\\n",
      "6826    6827  CA-2016-118689   10/2/2016   10/9/2016  Standard Class   \n",
      "8153    8154  CA-2017-140151   3/23/2017   3/25/2017     First Class   \n",
      "4190    4191  CA-2017-166709  11/17/2017  11/22/2017  Standard Class   \n",
      "9039    9040  CA-2016-117121  12/17/2016  12/21/2016  Standard Class   \n",
      "4098    4099  CA-2014-116904   9/23/2014   9/28/2014  Standard Class   \n",
      "\n",
      "     customer_id  customer_name    segment        country         city  ...  \\\n",
      "6826    TC-20980   Tamara Chand  Corporate  United States    Lafayette  ...   \n",
      "8153    RB-19360   Raymond Buch   Consumer  United States      Seattle  ...   \n",
      "4190    HL-15040   Hunter Lopez   Consumer  United States       Newark  ...   \n",
      "9039    AB-10105  Adrian Barton   Consumer  United States      Detroit  ...   \n",
      "4098    SC-20095   Sanjit Chand   Consumer  United States  Minneapolis  ...   \n",
      "\n",
      "     postal_code   region       product_id         category sub_category  \\\n",
      "6826       47905  Central  TEC-CO-10004722       Technology      Copiers   \n",
      "8153       98115     West  TEC-CO-10004722       Technology      Copiers   \n",
      "4190       19711     East  TEC-CO-10004722       Technology      Copiers   \n",
      "9039       48205  Central  OFF-BI-10000545  Office Supplies      Binders   \n",
      "4098       55407  Central  OFF-BI-10001120  Office Supplies      Binders   \n",
      "\n",
      "                                          product_name     sales  quantity  \\\n",
      "6826             Canon imageCLASS 2200 Advanced Copier  17499.95         5   \n",
      "8153             Canon imageCLASS 2200 Advanced Copier  13999.96         4   \n",
      "4190             Canon imageCLASS 2200 Advanced Copier  10499.97         3   \n",
      "9039  GBC Ibimaster 500 Manual ProClick Binding System   9892.74        13   \n",
      "4098              Ibico EPK-21 Electric Binding System   9449.95         5   \n",
      "\n",
      "      discount     profit  \n",
      "6826       0.0  8399.9760  \n",
      "8153       0.0  6719.9808  \n",
      "4190       0.0  5039.9856  \n",
      "9039       0.0  4946.3700  \n",
      "4098       0.0  4630.4755  \n",
      "\n",
      "[5 rows x 21 columns]\n",
      "      row_id        order_id  order_date   ship_date       ship_mode  \\\n",
      "8183    8184  CA-2017-155642   5/18/2017   5/22/2017  Standard Class   \n",
      "1358    1359  CA-2017-160045   4/26/2017   4/27/2017     First Class   \n",
      "3333    3334  CA-2017-122595  12/14/2017  12/20/2017  Standard Class   \n",
      "1106    1107  US-2016-110156  11/19/2016  11/24/2016  Standard Class   \n",
      "8561    8562  CA-2016-132829  12/23/2016  12/26/2016    Second Class   \n",
      "\n",
      "     customer_id    customer_name      segment        country        city  \\\n",
      "8183    BM-11575    Brendan Murry    Corporate  United States     Chicago   \n",
      "1358    LB-16735     Larry Blacks     Consumer  United States  Fort Worth   \n",
      "3333    GM-14455     Gary Mitchum  Home Office  United States     Chicago   \n",
      "1106    EH-13945    Eric Hoffmann     Consumer  United States     Houston   \n",
      "8561    LA-16780  Laura Armstrong    Corporate  United States     Houston   \n",
      "\n",
      "      ... postal_code   region       product_id   category sub_category  \\\n",
      "8183  ...       60653  Central  FUR-FU-10001918  Furniture  Furnishings   \n",
      "1358  ...       76106  Central  FUR-FU-10000010  Furniture  Furnishings   \n",
      "3333  ...       60653  Central  FUR-FU-10002963  Furniture  Furnishings   \n",
      "1106  ...       77041  Central  FUR-FU-10000206  Furniture  Furnishings   \n",
      "8561  ...       77041  Central  FUR-FU-10000206  Furniture  Furnishings   \n",
      "\n",
      "                                           product_name  sales  quantity  \\\n",
      "8183  C-Line Cubicle Keepers Polyproplyene Holder Wi...  1.892         1   \n",
      "1358    DAX Value U-Channel Document Frames, Easel Back  1.988         1   \n",
      "3333                      Master Caster Door Stop, Gray  2.032         1   \n",
      "1106  GE General Purpose, Extra Long Life, Showcase ...  2.328         2   \n",
      "8561  GE General Purpose, Extra Long Life, Showcase ...  2.328         2   \n",
      "\n",
      "      discount  profit  \n",
      "8183       0.6 -0.9933  \n",
      "1358       0.6 -1.4413  \n",
      "3333       0.6 -1.3208  \n",
      "1106       0.6 -0.7566  \n",
      "8561       0.6 -0.7566  \n",
      "\n",
      "[5 rows x 21 columns]\n"
     ]
    },
    {
     "name": "stderr",
     "output_type": "stream",
     "text": [
      "/var/folders/w0/gzl72q_50mbf77nryh92smw80000gn/T/ipykernel_57402/4279869947.py:6: UserWarning: Pandas doesn't allow columns to be created via a new attribute name - see https://pandas.pydata.org/pandas-docs/stable/indexing.html#attribute-access\n",
      "  df.sort_by_profit = df.sort_values('profit', ascending=False)\n",
      "/var/folders/w0/gzl72q_50mbf77nryh92smw80000gn/T/ipykernel_57402/4279869947.py:7: UserWarning: Pandas doesn't allow columns to be created via a new attribute name - see https://pandas.pydata.org/pandas-docs/stable/indexing.html#attribute-access\n",
      "  df.sort_by_category_sales = df.sort_values(by=['category', 'sales'])\n"
     ]
    }
   ],
   "source": [
    "# Filter rows with sales > 500 and region is 'South'\n",
    "filtered = df[(df['sales'] > 500) & (df['region'] == 'South')]\n",
    "print(filtered[['order_id', 'sales', 'region']])\n",
    "\n",
    "# Sort by Profit and then Category\n",
    "df.sort_by_profit = df.sort_values('profit', ascending=False)\n",
    "df.sort_by_category_sales = df.sort_values(by=['category', 'sales'])\n",
    "print(df.sort_by_profit.head())\n",
    "print(df.sort_by_category_sales.head())\n"
   ]
  },
  {
   "cell_type": "markdown",
   "id": "97dd5b95",
   "metadata": {},
   "source": [
    "## Task 3: Handling Missing Data"
   ]
  },
  {
   "cell_type": "code",
   "execution_count": 25,
   "id": "23c6f1b6",
   "metadata": {},
   "outputs": [
    {
     "name": "stdout",
     "output_type": "stream",
     "text": [
      "row_id           0\n",
      "order_id         0\n",
      "order_date       0\n",
      "ship_date        0\n",
      "ship_mode        0\n",
      "customer_id      0\n",
      "customer_name    0\n",
      "segment          0\n",
      "country          0\n",
      "city             0\n",
      "state            0\n",
      "postal_code      0\n",
      "region           0\n",
      "product_id       0\n",
      "category         0\n",
      "sub_category     0\n",
      "product_name     0\n",
      "sales            0\n",
      "quantity         0\n",
      "discount         0\n",
      "profit           0\n",
      "dtype: int64\n",
      "   row_id        order_id  order_date   ship_date       ship_mode customer_id  \\\n",
      "0       1  CA-2016-152156   11/8/2016  11/11/2016    Second Class    CG-12520   \n",
      "1       2  CA-2016-152156   11/8/2016  11/11/2016    Second Class    CG-12520   \n",
      "2       3  CA-2016-138688   6/12/2016   6/16/2016    Second Class    DV-13045   \n",
      "3       4  US-2015-108966  10/11/2015  10/18/2015  Standard Class    SO-20335   \n",
      "4       5  US-2015-108966  10/11/2015  10/18/2015  Standard Class    SO-20335   \n",
      "\n",
      "     customer_name    segment        country             city  ...  \\\n",
      "0      Claire Gute   Consumer  United States        Henderson  ...   \n",
      "1      Claire Gute   Consumer  United States        Henderson  ...   \n",
      "2  Darrin Van Huff  Corporate  United States      Los Angeles  ...   \n",
      "3   Sean O'Donnell   Consumer  United States  Fort Lauderdale  ...   \n",
      "4   Sean O'Donnell   Consumer  United States  Fort Lauderdale  ...   \n",
      "\n",
      "  postal_code  region       product_id         category sub_category  \\\n",
      "0       42420   South  FUR-BO-10001798        Furniture    Bookcases   \n",
      "1       42420   South  FUR-CH-10000454        Furniture       Chairs   \n",
      "2       90036    West  OFF-LA-10000240  Office Supplies       Labels   \n",
      "3       33311   South  FUR-TA-10000577        Furniture       Tables   \n",
      "4       33311   South  OFF-ST-10000760  Office Supplies      Storage   \n",
      "\n",
      "                                        product_name     sales  quantity  \\\n",
      "0                  Bush Somerset Collection Bookcase  261.9600         2   \n",
      "1  Hon Deluxe Fabric Upholstered Stacking Chairs,...  731.9400         3   \n",
      "2  Self-Adhesive Address Labels for Typewriters b...   14.6200         2   \n",
      "3      Bretford CR4500 Series Slim Rectangular Table  957.5775         5   \n",
      "4                     Eldon Fold 'N Roll Cart System   22.3680         2   \n",
      "\n",
      "   discount    profit  \n",
      "0      0.00   41.9136  \n",
      "1      0.00  219.5820  \n",
      "2      0.00    6.8714  \n",
      "3      0.45 -383.0310  \n",
      "4      0.20    2.5164  \n",
      "\n",
      "[5 rows x 21 columns]\n"
     ]
    }
   ],
   "source": [
    "# Check for missing values\n",
    "print(df.isnull().sum())\n",
    "\n",
    "# Fill or drop missing values\n",
    "df_filled = df.fillna(0)\n",
    "df_dropped = df.dropna()\n",
    "\n",
    "# Show filled data example\n",
    "print(df_filled.head())\n"
   ]
  },
  {
   "cell_type": "markdown",
   "id": "a060ab71",
   "metadata": {},
   "source": [
    "## Task 4: GroupBy Operations"
   ]
  },
  {
   "cell_type": "code",
   "execution_count": 26,
   "id": "b8e66b89",
   "metadata": {},
   "outputs": [
    {
     "name": "stdout",
     "output_type": "stream",
     "text": [
      "category\n",
      "Furniture          349.834887\n",
      "Office Supplies    119.324101\n",
      "Technology         452.709276\n",
      "Name: sales, dtype: float64\n",
      "    region          sum        mean  count\n",
      "0  Central  501239.8908  215.772661   2323\n",
      "1     East  678781.2400  238.336110   2848\n",
      "2    South  391721.9050  241.803645   1620\n",
      "3     West  725457.8245  226.493233   3203\n"
     ]
    }
   ],
   "source": [
    "# Average sales by category\n",
    "print(df.groupby('category')['sales'].mean())\n",
    "\n",
    "# Aggregation by region\n",
    "region_stats = df.groupby('region')['sales'].agg(['sum', 'mean', 'count']).reset_index()\n",
    "print(region_stats)\n"
   ]
  },
  {
   "cell_type": "markdown",
   "id": "72386b0c",
   "metadata": {},
   "source": [
    "## Task 5: Merging Example"
   ]
  },
  {
   "cell_type": "code",
   "execution_count": 27,
   "id": "dc4a681b",
   "metadata": {},
   "outputs": [
    {
     "name": "stdout",
     "output_type": "stream",
     "text": [
      "         order_id customer_id    customer_name\n",
      "0  CA-2016-152156    CG-12520      Claire Gute\n",
      "1  CA-2016-152156    CG-12520      Claire Gute\n",
      "2  CA-2016-138688    DV-13045  Darrin Van Huff\n",
      "3  US-2015-108966    SO-20335   Sean O'Donnell\n",
      "4  US-2015-108966    SO-20335   Sean O'Donnell\n"
     ]
    }
   ],
   "source": [
    "# Create dummy customer and orders tables\n",
    "orders = df[['order_id', 'customer_id']]\n",
    "customers = df[['customer_id', 'customer_name']].drop_duplicates()\n",
    "\n",
    "# Merge the two\n",
    "merged = pd.merge(orders, customers, on='customer_id', how='inner')\n",
    "print(merged.head())\n"
   ]
  }
 ],
 "metadata": {
  "kernelspec": {
   "display_name": "Python 3",
   "language": "python",
   "name": "python3"
  },
  "language_info": {
   "codemirror_mode": {
    "name": "ipython",
    "version": 3
   },
   "file_extension": ".py",
   "mimetype": "text/x-python",
   "name": "python",
   "nbconvert_exporter": "python",
   "pygments_lexer": "ipython3",
   "version": "3.13.1"
  }
 },
 "nbformat": 4,
 "nbformat_minor": 5
}
