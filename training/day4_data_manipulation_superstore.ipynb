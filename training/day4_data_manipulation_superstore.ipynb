{
 "cells": [
  {
   "cell_type": "markdown",
   "id": "8b5584fa",
   "metadata": {},
   "source": [
    "# Day 4 - Pandas: Data Manipulation I (Superstore Dataset)\n",
    "Working with real-world retail data to access, filter, clean, group, and merge."
   ]
  },
  {
   "cell_type": "markdown",
   "id": "b288c94a",
   "metadata": {},
   "source": [
    "## Import Libraries and Load Dataset"
   ]
  },
  {
   "cell_type": "code",
   "execution_count": 4,
   "id": "8c8c101e",
   "metadata": {},
   "outputs": [
    {
     "ename": "ModuleNotFoundError",
     "evalue": "No module named 'pandas'",
     "output_type": "error",
     "traceback": [
      "\u001b[0;31m---------------------------------------------------------------------------\u001b[0m",
      "\u001b[0;31mModuleNotFoundError\u001b[0m                       Traceback (most recent call last)",
      "Cell \u001b[0;32mIn[4], line 1\u001b[0m\n\u001b[0;32m----> 1\u001b[0m \u001b[38;5;28;01mimport\u001b[39;00m\u001b[38;5;250m \u001b[39m\u001b[38;5;21;01mpandas\u001b[39;00m\u001b[38;5;250m \u001b[39m\u001b[38;5;28;01mas\u001b[39;00m\u001b[38;5;250m \u001b[39m\u001b[38;5;21;01mpd\u001b[39;00m\n\u001b[1;32m      3\u001b[0m \u001b[38;5;66;03m# Load the Superstore dataset\u001b[39;00m\n\u001b[1;32m      4\u001b[0m df \u001b[38;5;241m=\u001b[39m pd\u001b[38;5;241m.\u001b[39mread_csv(\u001b[38;5;124m'\u001b[39m\u001b[38;5;124m2e30ffd1-2b0e-4bcc-9fb5-c8c9c112834e.csv\u001b[39m\u001b[38;5;124m'\u001b[39m, encoding\u001b[38;5;241m=\u001b[39m\u001b[38;5;124m'\u001b[39m\u001b[38;5;124mISO-8859-1\u001b[39m\u001b[38;5;124m'\u001b[39m)\n",
      "\u001b[0;31mModuleNotFoundError\u001b[0m: No module named 'pandas'"
     ]
    }
   ],
   "source": [
    "import pandas as pd\n",
    "\n",
    "# Load the Superstore dataset\n",
    "df = pd.read_csv('2e30ffd1-2b0e-4bcc-9fb5-c8c9c112834e.csv', encoding='ISO-8859-1')\n",
    "\n",
    "# Clean column names: lowercase, replace spaces and hyphens\n",
    "df.columns = df.columns.str.strip().str.lower().str.replace(' ', '_').str.replace('-', '_')\n",
    "\n",
    "# Show the first few rows\n",
    "df.head()\n"
   ]
  },
  {
   "cell_type": "markdown",
   "id": "8c803129",
   "metadata": {},
   "source": [
    "## Task 1: Indexing and Slicing"
   ]
  },
  {
   "cell_type": "code",
   "execution_count": null,
   "id": "e0ccd93f",
   "metadata": {},
   "outputs": [],
   "source": [
    "# Access using loc and iloc\n",
    "print(df.loc[0, 'sales'])\n",
    "print(df.iloc[0:3, 3:6])\n",
    "\n",
    "# Select rows and columns\n",
    "print(df[['region', 'sales', 'profit']])\n",
    "print(df[df['sales'] > 500])\n"
   ]
  },
  {
   "cell_type": "markdown",
   "id": "ae410ba4",
   "metadata": {},
   "source": [
    "## Task 2: Filtering and Sorting"
   ]
  },
  {
   "cell_type": "code",
   "execution_count": null,
   "id": "3b067eba",
   "metadata": {},
   "outputs": [],
   "source": [
    "# Filter rows with sales > 500 and region is 'South'\n",
    "filtered = df[(df['sales'] > 500) & (df['region'] == 'South')]\n",
    "print(filtered[['order_id', 'sales', 'region']])\n",
    "\n",
    "# Sort by Profit and then Category\n",
    "df.sort_by_profit = df.sort_values('profit', ascending=False)\n",
    "df.sort_by_category_sales = df.sort_values(by=['category', 'sales'])\n",
    "print(df.sort_by_profit.head())\n",
    "print(df.sort_by_category_sales.head())\n"
   ]
  },
  {
   "cell_type": "markdown",
   "id": "97dd5b95",
   "metadata": {},
   "source": [
    "## Task 3: Handling Missing Data"
   ]
  },
  {
   "cell_type": "code",
   "execution_count": null,
   "id": "23c6f1b6",
   "metadata": {},
   "outputs": [],
   "source": [
    "# Check for missing values\n",
    "print(df.isnull().sum())\n",
    "\n",
    "# Fill or drop missing values\n",
    "df_filled = df.fillna(0)\n",
    "df_dropped = df.dropna()\n",
    "\n",
    "# Show filled data example\n",
    "print(df_filled.head())\n"
   ]
  },
  {
   "cell_type": "markdown",
   "id": "a060ab71",
   "metadata": {},
   "source": [
    "## Task 4: GroupBy Operations"
   ]
  },
  {
   "cell_type": "code",
   "execution_count": null,
   "id": "b8e66b89",
   "metadata": {},
   "outputs": [],
   "source": [
    "# Average sales by category\n",
    "print(df.groupby('category')['sales'].mean())\n",
    "\n",
    "# Aggregation by region\n",
    "region_stats = df.groupby('region')['sales'].agg(['sum', 'mean', 'count']).reset_index()\n",
    "print(region_stats)\n"
   ]
  },
  {
   "cell_type": "markdown",
   "id": "72386b0c",
   "metadata": {},
   "source": [
    "## Task 5: Merging Example"
   ]
  },
  {
   "cell_type": "code",
   "execution_count": null,
   "id": "dc4a681b",
   "metadata": {},
   "outputs": [],
   "source": [
    "# Create dummy customer and orders tables\n",
    "orders = df[['order_id', 'customer_id']]\n",
    "customers = df[['customer_id', 'customer_name']].drop_duplicates()\n",
    "\n",
    "# Merge the two\n",
    "merged = pd.merge(orders, customers, on='customer_id', how='inner')\n",
    "print(merged.head())\n"
   ]
  }
 ],
 "metadata": {
  "kernelspec": {
   "display_name": "Python 3",
   "language": "python",
   "name": "python3"
  },
  "language_info": {
   "codemirror_mode": {
    "name": "ipython",
    "version": 3
   },
   "file_extension": ".py",
   "mimetype": "text/x-python",
   "name": "python",
   "nbconvert_exporter": "python",
   "pygments_lexer": "ipython3",
   "version": "3.9.6"
  }
 },
 "nbformat": 4,
 "nbformat_minor": 5
}
