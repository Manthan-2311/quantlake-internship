{
 "cells": [
  {
   "cell_type": "markdown",
   "id": "d2d48c9c",
   "metadata": {},
   "source": [
    "# Day 9 - Advanced SQL Analytics & Business Insights"
   ]
  },
  {
   "cell_type": "markdown",
   "id": "58e20006",
   "metadata": {},
   "source": [
    "## Step 1: Connect to Database"
   ]
  },
  {
   "cell_type": "code",
   "execution_count": null,
   "id": "70161151",
   "metadata": {},
   "outputs": [],
   "source": [
    "import sqlite3\n",
    "import pandas as pd\n",
    "\n",
    "conn = sqlite3.connect(\"Chinook_Sqlite.sqlite\")"
   ]
  },
  {
   "cell_type": "markdown",
   "id": "182bd551",
   "metadata": {},
   "source": [
    "## Task 1: Multi-table Join Analysis"
   ]
  },
  {
   "cell_type": "code",
   "execution_count": null,
   "id": "d4f6d982",
   "metadata": {},
   "outputs": [],
   "source": [
    "# Total revenue and number of orders per customer\n",
    "query = '''\n",
    "SELECT c.CustomerId, c.FirstName, c.LastName, c.Country,\n",
    "       COUNT(i.InvoiceId) AS NumOrders,\n",
    "       SUM(i.Total) AS TotalSpent\n",
    "FROM Customer c\n",
    "JOIN Invoice i ON c.CustomerId = i.CustomerId\n",
    "GROUP BY c.CustomerId\n",
    "ORDER BY TotalSpent DESC\n",
    "LIMIT 5;\n",
    "'''\n",
    "pd.read_sql_query(query, conn)"
   ]
  },
  {
   "cell_type": "markdown",
   "id": "4498ac04",
   "metadata": {},
   "source": [
    "## Task 2: Window Functions"
   ]
  },
  {
   "cell_type": "code",
   "execution_count": null,
   "id": "5dff7e87",
   "metadata": {},
   "outputs": [],
   "source": [
    "# Rank customer orders by amount\n",
    "query = '''\n",
    "SELECT i.CustomerId, i.InvoiceId, i.Total,\n",
    "       RANK() OVER (PARTITION BY i.CustomerId ORDER BY i.Total DESC) AS OrderRank\n",
    "FROM Invoice i;\n",
    "'''\n",
    "pd.read_sql_query(query, conn)"
   ]
  },
  {
   "cell_type": "code",
   "execution_count": null,
   "id": "1688b35e",
   "metadata": {},
   "outputs": [],
   "source": [
    "# Running total of revenue by InvoiceDate\n",
    "query = '''\n",
    "SELECT InvoiceDate, Total,\n",
    "       SUM(Total) OVER (ORDER BY InvoiceDate) AS RunningTotal\n",
    "FROM Invoice;\n",
    "'''\n",
    "pd.read_sql_query(query, conn).head(10)"
   ]
  },
  {
   "cell_type": "markdown",
   "id": "a49f65fc",
   "metadata": {},
   "source": [
    "## Task 3: CTEs (Common Table Expressions)"
   ]
  },
  {
   "cell_type": "code",
   "execution_count": null,
   "id": "98f7b0df",
   "metadata": {},
   "outputs": [],
   "source": [
    "# CTE: Customers with Avg Order > 15\n",
    "query = '''\n",
    "WITH AvgOrder AS (\n",
    "    SELECT CustomerId, AVG(Total) AS AvgTotal\n",
    "    FROM Invoice\n",
    "    GROUP BY CustomerId\n",
    ")\n",
    "SELECT * FROM AvgOrder\n",
    "WHERE AvgTotal > 15;\n",
    "'''\n",
    "pd.read_sql_query(query, conn)"
   ]
  },
  {
   "cell_type": "markdown",
   "id": "2df196de",
   "metadata": {},
   "source": [
    "## Task 4: Trend Analysis (Simulated)"
   ]
  },
  {
   "cell_type": "code",
   "execution_count": null,
   "id": "f7254670",
   "metadata": {},
   "outputs": [],
   "source": [
    "# Group monthly sales (simulated trend detection)\n",
    "query = '''\n",
    "SELECT strftime('%Y-%m', InvoiceDate) AS Month,\n",
    "       SUM(Total) AS MonthlyRevenue\n",
    "FROM Invoice\n",
    "GROUP BY Month\n",
    "ORDER BY Month;\n",
    "'''\n",
    "pd.read_sql_query(query, conn)"
   ]
  },
  {
   "cell_type": "markdown",
   "id": "19c6ef8b",
   "metadata": {},
   "source": [
    "✅ Add screenshots of analysis to GitHub folder if required."
   ]
  }
 ],
 "metadata": {},
 "nbformat": 4,
 "nbformat_minor": 5
}
