{
 "cells": [
  {
   "cell_type": "markdown",
   "id": "dbf2aa21",
   "metadata": {},
   "source": [
    "# Day 3 - Pandas Introduction\n",
    "Learn how to use Pandas to create, explore, and manipulate datasets."
   ]
  },
  {
   "cell_type": "markdown",
   "id": "11c508ff",
   "metadata": {},
   "source": [
    "## Import Libraries"
   ]
  },
  {
   "cell_type": "code",
   "execution_count": null,
   "id": "d86e8b00",
   "metadata": {},
   "outputs": [],
   "source": [
    "import pandas as pd\n",
    "import numpy as np\n",
    "import seaborn as sns"
   ]
  },
  {
   "cell_type": "markdown",
   "id": "147494d6",
   "metadata": {},
   "source": [
    "## Pandas Basics: Series and DataFrame"
   ]
  },
  {
   "cell_type": "code",
   "execution_count": null,
   "id": "991905b2",
   "metadata": {},
   "outputs": [],
   "source": [
    "# Create a Series\n",
    "s = pd.Series([1, 2, 3, 4])\n",
    "print(\"Series:\")\n",
    "print(s)\n",
    "\n",
    "# Create a DataFrame from a dictionary\n",
    "data = {'Name': ['Manthan', 'Ananya', 'Ravi'], 'Score': [85, 92, 78]}\n",
    "df = pd.DataFrame(data)\n",
    "print(\"DataFrame:\")\n",
    "print(df)\n",
    "\n",
    "# Explore structure\n",
    "print(df.head())\n",
    "print(df.tail())\n",
    "print(df.shape)\n",
    "print(df.columns)\n",
    "print(df.index)\n",
    "print(df.dtypes)\n"
   ]
  },
  {
   "cell_type": "markdown",
   "id": "ef7c0b1e",
   "metadata": {},
   "source": [
    "## Load Dataset: Iris"
   ]
  },
  {
   "cell_type": "code",
   "execution_count": null,
   "id": "95bf49dc",
   "metadata": {},
   "outputs": [],
   "source": [
    "# Load the built-in Iris dataset\n",
    "iris = sns.load_dataset(\"iris\")\n",
    "\n",
    "# View dataset info\n",
    "print(iris.info())\n",
    "print(iris.describe())\n",
    "print(iris.isnull().sum())\n"
   ]
  },
  {
   "cell_type": "markdown",
   "id": "e9fcad0a",
   "metadata": {},
   "source": [
    "## Access and Filter Data"
   ]
  },
  {
   "cell_type": "code",
   "execution_count": null,
   "id": "adcbc02b",
   "metadata": {},
   "outputs": [],
   "source": [
    "# Access columns\n",
    "print(iris['sepal_length'])\n",
    "print(iris[['sepal_length', 'species']])\n",
    "\n",
    "# Using loc and iloc\n",
    "print(iris.loc[0])\n",
    "print(iris.iloc[0:5])\n",
    "\n",
    "# Add a new column\n",
    "iris['sepal_ratio'] = iris['sepal_length'] / iris['sepal_width']\n",
    "print(iris.head())\n",
    "\n",
    "# Drop the new column\n",
    "iris.drop('sepal_ratio', axis=1, inplace=True)\n",
    "\n",
    "# Drop a row\n",
    "iris.drop(0, axis=0, inplace=True)\n",
    "print(iris.head())\n"
   ]
  },
  {
   "cell_type": "markdown",
   "id": "04af3565",
   "metadata": {},
   "source": [
    "## Built-in Methods"
   ]
  },
  {
   "cell_type": "code",
   "execution_count": null,
   "id": "7c8cd54f",
   "metadata": {},
   "outputs": [],
   "source": [
    "# Aggregation functions\n",
    "print(\"Mean sepal length:\", iris['sepal_length'].mean())\n",
    "print(\"Sum sepal width:\", iris['sepal_width'].sum())\n",
    "print(\"Min petal length:\", iris['petal_length'].min())\n",
    "print(\"Max petal length:\", iris['petal_length'].max())\n",
    "\n",
    "# Unique values and counts\n",
    "print(\"Unique species:\", iris['species'].unique())\n",
    "print(\"Species counts:\")\n",
    "print(iris['species'].value_counts())\n",
    "\n",
    "# Sorting\n",
    "print(iris.sort_values(by='sepal_length', ascending=False).head())\n"
   ]
  }
 ],
 "metadata": {
  "language_info": {
   "name": "python"
  }
 },
 "nbformat": 4,
 "nbformat_minor": 5
}
